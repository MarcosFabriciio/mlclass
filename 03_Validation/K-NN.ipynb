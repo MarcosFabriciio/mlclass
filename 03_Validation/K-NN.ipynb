{
 "cells": [
  {
   "cell_type": "code",
   "execution_count": 1,
   "metadata": {},
   "outputs": [],
   "source": [
    "import pandas"
   ]
  },
  {
   "cell_type": "code",
   "execution_count": 2,
   "metadata": {},
   "outputs": [],
   "source": [
    "import random"
   ]
  },
  {
   "cell_type": "code",
   "execution_count": 3,
   "metadata": {},
   "outputs": [],
   "source": [
    "from sklearn.neighbors import KNeighborsClassifier"
   ]
  },
  {
   "cell_type": "code",
   "execution_count": 4,
   "metadata": {},
   "outputs": [],
   "source": [
    "abalones = pandas.read_excel(\"dataset_processado.xlsx\");\n",
    "test = pandas.read_excel(\"app_processado.xlsx\");\n",
    "numNeighbors = 5;"
   ]
  },
  {
   "cell_type": "code",
   "execution_count": 5,
   "metadata": {},
   "outputs": [],
   "source": [
    "knn = KNeighborsClassifier(n_neighbors = numNeighbors);"
   ]
  },
  {
   "cell_type": "code",
   "execution_count": 6,
   "metadata": {},
   "outputs": [],
   "source": [
    "#Selecionando índices para teste e treino\n",
    "trainingIndexes = [];\n",
    "testIndexes = [];\n",
    "n = 0;\n",
    "for item in abalones[\"sex\"]:\n",
    "    if random.random() > 0.2:\n",
    "        trainingIndexes.append(n)\n",
    "    else:\n",
    "        testIndexes.append(n)\n",
    "    n+=1"
   ]
  },
  {
   "cell_type": "code",
   "execution_count": 7,
   "metadata": {},
   "outputs": [],
   "source": [
    "#Criando os dataframes de treino e teste e separando os classificadores\n",
    "testData = abalones.drop(trainingIndexes);\n",
    "testClasses = testData[\"type\"];\n",
    "testData = testData.drop(columns=[\"type\"]);\n",
    "\n",
    "trainingData = abalones.drop(testIndexes);\n",
    "classifications = trainingData[\"type\"]\n",
    "trainingData = trainingData.drop(columns=[\"type\"])"
   ]
  },
  {
   "cell_type": "code",
   "execution_count": 8,
   "metadata": {},
   "outputs": [
    {
     "data": {
      "text/plain": [
       "sex               2503\n",
       "length            2503\n",
       "diameter          2503\n",
       "height            2503\n",
       "whole_weight      2503\n",
       "shucked_weight    2503\n",
       "viscera_weight    2503\n",
       "shell_weight      2503\n",
       "dtype: int64"
      ]
     },
     "execution_count": 8,
     "metadata": {},
     "output_type": "execute_result"
    }
   ],
   "source": [
    "trainingData.count()"
   ]
  },
  {
   "cell_type": "code",
   "execution_count": 9,
   "metadata": {},
   "outputs": [
    {
     "data": {
      "text/plain": [
       "2503"
      ]
     },
     "execution_count": 9,
     "metadata": {},
     "output_type": "execute_result"
    }
   ],
   "source": [
    "classifications.count()"
   ]
  },
  {
   "cell_type": "code",
   "execution_count": 10,
   "metadata": {},
   "outputs": [
    {
     "data": {
      "text/plain": [
       "sex               629\n",
       "length            629\n",
       "diameter          629\n",
       "height            629\n",
       "whole_weight      629\n",
       "shucked_weight    629\n",
       "viscera_weight    629\n",
       "shell_weight      629\n",
       "dtype: int64"
      ]
     },
     "execution_count": 10,
     "metadata": {},
     "output_type": "execute_result"
    }
   ],
   "source": [
    "testData.count()"
   ]
  },
  {
   "cell_type": "code",
   "execution_count": 11,
   "metadata": {},
   "outputs": [
    {
     "data": {
      "text/plain": [
       "KNeighborsClassifier(algorithm='auto', leaf_size=30, metric='minkowski',\n",
       "           metric_params=None, n_jobs=1, n_neighbors=5, p=2,\n",
       "           weights='uniform')"
      ]
     },
     "execution_count": 11,
     "metadata": {},
     "output_type": "execute_result"
    }
   ],
   "source": [
    "#Aplicando K-NN\n",
    "knn.fit(trainingData, classifications)"
   ]
  },
  {
   "cell_type": "code",
   "execution_count": 12,
   "metadata": {},
   "outputs": [],
   "source": [
    "results = knn.predict(testData);"
   ]
  },
  {
   "cell_type": "code",
   "execution_count": 13,
   "metadata": {},
   "outputs": [],
   "source": [
    "#Testando acurácia\n",
    "\n",
    "n = 0;\n",
    "correctPredictions = 0;\n",
    "for item in testClasses:\n",
    "    if item == results[n]:\n",
    "        correctPredictions += 1;\n",
    "    n+=1  "
   ]
  },
  {
   "cell_type": "code",
   "execution_count": 14,
   "metadata": {},
   "outputs": [
    {
     "name": "stdout",
     "output_type": "stream",
     "text": [
      "Acurácia: 0.6375198728139905%\n"
     ]
    }
   ],
   "source": [
    "print(\"Acurácia: \" + str(correctPredictions/len(results)) + \"%\")"
   ]
  }
 ],
 "metadata": {
  "kernelspec": {
   "display_name": "Python 3",
   "language": "python",
   "name": "python3"
  },
  "language_info": {
   "codemirror_mode": {
    "name": "ipython",
    "version": 3
   },
   "file_extension": ".py",
   "mimetype": "text/x-python",
   "name": "python",
   "nbconvert_exporter": "python",
   "pygments_lexer": "ipython3",
   "version": "3.7.0"
  }
 },
 "nbformat": 4,
 "nbformat_minor": 2
}
