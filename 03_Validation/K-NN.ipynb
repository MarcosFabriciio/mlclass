{
 "cells": [
  {
   "cell_type": "code",
   "execution_count": 1,
   "metadata": {},
   "outputs": [],
   "source": [
    "import pandas"
   ]
  },
  {
   "cell_type": "code",
   "execution_count": 2,
   "metadata": {},
   "outputs": [],
   "source": [
    "import random"
   ]
  },
  {
   "cell_type": "code",
   "execution_count": 3,
   "metadata": {},
   "outputs": [],
   "source": [
    "from sklearn.neighbors import KNeighborsClassifier"
   ]
  },
  {
   "cell_type": "code",
   "execution_count": 25,
   "metadata": {},
   "outputs": [],
   "source": [
    "abalones = pandas.read_excel(\"dataset_processado.xlsx\");\n",
    "test = pandas.read_excel(\"app_processado.xlsx\");"
   ]
  },
  {
   "cell_type": "code",
   "execution_count": 43,
   "metadata": {},
   "outputs": [],
   "source": [
    "#Parâmetros de teste\n",
    "numNeighbors = 5;\n",
    "accuracy = {}; #Grupo de parâmetros: acurácia\n",
    "numReps = 10;\n",
    "weights = [1,1,1,1,1,1,1,1]"
   ]
  },
  {
   "cell_type": "code",
   "execution_count": 42,
   "metadata": {},
   "outputs": [
    {
     "data": {
      "text/plain": [
       "Index(['sex', 'length', 'diameter', 'height', 'whole_weight', 'shucked_weight',\n",
       "       'viscera_weight', 'shell_weight', 'type'],\n",
       "      dtype='object')"
      ]
     },
     "execution_count": 42,
     "metadata": {},
     "output_type": "execute_result"
    }
   ],
   "source": [
    "abalones.columns"
   ]
  },
  {
   "cell_type": "code",
   "execution_count": 44,
   "metadata": {},
   "outputs": [
    {
     "name": "stdout",
     "output_type": "stream",
     "text": [
      "Acurácia média em 10 tentativas: 0.6245342943511384\n",
      "\n",
      "----- PARÂMETROS -----\n",
      "Número de Vizinhos: 5\n",
      "Sexo: 1\n",
      "Comprimento: 1\n",
      "Diâmetro: 1\n",
      "Altura: 1\n",
      "Peso cheio: 1\n",
      "Peso vazio: 1\n",
      "Peso das vísceras: 1\n",
      "Peso da concha: 1\n"
     ]
    }
   ],
   "source": [
    "accuracyResults = [];\n",
    "\n",
    "for n in range(numReps):\n",
    "    knn = KNeighborsClassifier(n_neighbors = numNeighbors);\n",
    "\n",
    "    #Selecionando índices para teste e treino\n",
    "    trainingIndexes = [];\n",
    "    testIndexes = [];\n",
    "    n = 0;\n",
    "    for item in abalones[\"sex\"]:\n",
    "        if random.random() > 0.2:\n",
    "            trainingIndexes.append(n)\n",
    "        else:\n",
    "            testIndexes.append(n)\n",
    "        n+=1\n",
    "\n",
    "    #Criando os dataframes de treino e teste e separando os classificadores\n",
    "    testData = abalones.drop(trainingIndexes);\n",
    "    testClasses = testData[\"type\"];\n",
    "    testData = testData.drop(columns=[\"type\"]);\n",
    "\n",
    "    trainingData = abalones.drop(testIndexes);\n",
    "    classifications = trainingData[\"type\"]\n",
    "    trainingData = trainingData.drop(columns=[\"type\"])\n",
    "    \n",
    "    #Aplicando pesos\n",
    "    n = 0;\n",
    "    for col in trainingData.columns:\n",
    "        trainingData[col] = trainingData[col]*weights[n]\n",
    "        testData[col] = testData[col]*weights[n]\n",
    "        n+=1\n",
    "\n",
    "    #Aplicando K-NN\n",
    "    knn.fit(trainingData, classifications)\n",
    "\n",
    "    results = knn.predict(testData);\n",
    "\n",
    "    #Testando acurácia\n",
    "    n = 0;\n",
    "    correctPredictions = 0;\n",
    "    for item in testClasses:\n",
    "        if item == results[n]:\n",
    "            correctPredictions += 1;\n",
    "        n+=1  \n",
    "\n",
    "    acc = correctPredictions/len(results)\n",
    "    accuracyResults.append(acc)\n",
    "\n",
    "meanAcc = sum(accuracyResults)/len(accuracyResults)\n",
    "print(\"Acurácia média em \" + str(numReps) + \" tentativas: \" + str(meanAcc))\n",
    "print(\"\\n----- PARÂMETROS -----\\nNúmero de Vizinhos: \" + str(numNeighbors)\n",
    "      + \"\\nSexo: \" + str(weights[0]) \n",
    "      + \"\\nComprimento: \" + str(weights[1])\n",
    "      + \"\\nDiâmetro: \" + str(weights[2])\n",
    "      + \"\\nAltura: \" + str(weights[3])\n",
    "      + \"\\nPeso cheio: \" + str(weights[4])\n",
    "      + \"\\nPeso vazio: \" + str(weights[5])\n",
    "      + \"\\nPeso das vísceras: \" + str(weights[6])\n",
    "      + \"\\nPeso da concha: \" + str(weights[7])\n",
    "     )"
   ]
  },
  {
   "cell_type": "code",
   "execution_count": null,
   "metadata": {},
   "outputs": [],
   "source": []
  }
 ],
 "metadata": {
  "kernelspec": {
   "display_name": "Python 3",
   "language": "python",
   "name": "python3"
  },
  "language_info": {
   "codemirror_mode": {
    "name": "ipython",
    "version": 3
   },
   "file_extension": ".py",
   "mimetype": "text/x-python",
   "name": "python",
   "nbconvert_exporter": "python",
   "pygments_lexer": "ipython3",
   "version": "3.7.0"
  }
 },
 "nbformat": 4,
 "nbformat_minor": 2
}
