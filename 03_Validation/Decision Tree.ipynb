{
 "cells": [
  {
   "cell_type": "code",
   "execution_count": 8,
   "metadata": {},
   "outputs": [],
   "source": [
    "import pandas as pd\n",
    "import numpy as np\n",
    "import seaborn as sns\n",
    "import matplotlib.pyplot as plt"
   ]
  },
  {
   "cell_type": "code",
   "execution_count": 9,
   "metadata": {},
   "outputs": [],
   "source": [
    "dataframe = pd.read_excel(\"dataset_processado.xlsx\")"
   ]
  },
  {
   "cell_type": "code",
   "execution_count": 10,
   "metadata": {
    "scrolled": true
   },
   "outputs": [
    {
     "data": {
      "text/html": [
       "<div>\n",
       "<style scoped>\n",
       "    .dataframe tbody tr th:only-of-type {\n",
       "        vertical-align: middle;\n",
       "    }\n",
       "\n",
       "    .dataframe tbody tr th {\n",
       "        vertical-align: top;\n",
       "    }\n",
       "\n",
       "    .dataframe thead th {\n",
       "        text-align: right;\n",
       "    }\n",
       "</style>\n",
       "<table border=\"1\" class=\"dataframe\">\n",
       "  <thead>\n",
       "    <tr style=\"text-align: right;\">\n",
       "      <th></th>\n",
       "      <th>sex</th>\n",
       "      <th>length</th>\n",
       "      <th>diameter</th>\n",
       "      <th>height</th>\n",
       "      <th>whole_weight</th>\n",
       "      <th>shucked_weight</th>\n",
       "      <th>viscera_weight</th>\n",
       "      <th>shell_weight</th>\n",
       "      <th>type</th>\n",
       "    </tr>\n",
       "  </thead>\n",
       "  <tbody>\n",
       "    <tr>\n",
       "      <th>0</th>\n",
       "      <td>0</td>\n",
       "      <td>0.621622</td>\n",
       "      <td>0.613445</td>\n",
       "      <td>0.291262</td>\n",
       "      <td>0.247034</td>\n",
       "      <td>0.172495</td>\n",
       "      <td>0.200790</td>\n",
       "      <td>0.237668</td>\n",
       "      <td>3</td>\n",
       "    </tr>\n",
       "    <tr>\n",
       "      <th>1</th>\n",
       "      <td>-1</td>\n",
       "      <td>0.587838</td>\n",
       "      <td>0.546218</td>\n",
       "      <td>0.223301</td>\n",
       "      <td>0.181866</td>\n",
       "      <td>0.143914</td>\n",
       "      <td>0.148782</td>\n",
       "      <td>0.163926</td>\n",
       "      <td>1</td>\n",
       "    </tr>\n",
       "    <tr>\n",
       "      <th>2</th>\n",
       "      <td>-1</td>\n",
       "      <td>0.148649</td>\n",
       "      <td>0.126050</td>\n",
       "      <td>0.087379</td>\n",
       "      <td>0.009563</td>\n",
       "      <td>0.007397</td>\n",
       "      <td>0.009217</td>\n",
       "      <td>0.007972</td>\n",
       "      <td>1</td>\n",
       "    </tr>\n",
       "    <tr>\n",
       "      <th>3</th>\n",
       "      <td>0</td>\n",
       "      <td>0.641892</td>\n",
       "      <td>0.663866</td>\n",
       "      <td>0.330097</td>\n",
       "      <td>0.286170</td>\n",
       "      <td>0.212508</td>\n",
       "      <td>0.206057</td>\n",
       "      <td>0.217738</td>\n",
       "      <td>3</td>\n",
       "    </tr>\n",
       "    <tr>\n",
       "      <th>4</th>\n",
       "      <td>-1</td>\n",
       "      <td>0.621622</td>\n",
       "      <td>0.605042</td>\n",
       "      <td>0.291262</td>\n",
       "      <td>0.203471</td>\n",
       "      <td>0.241089</td>\n",
       "      <td>0.177090</td>\n",
       "      <td>0.222720</td>\n",
       "      <td>1</td>\n",
       "    </tr>\n",
       "  </tbody>\n",
       "</table>\n",
       "</div>"
      ],
      "text/plain": [
       "   sex    length  diameter    height  whole_weight  shucked_weight  \\\n",
       "0    0  0.621622  0.613445  0.291262      0.247034        0.172495   \n",
       "1   -1  0.587838  0.546218  0.223301      0.181866        0.143914   \n",
       "2   -1  0.148649  0.126050  0.087379      0.009563        0.007397   \n",
       "3    0  0.641892  0.663866  0.330097      0.286170        0.212508   \n",
       "4   -1  0.621622  0.605042  0.291262      0.203471        0.241089   \n",
       "\n",
       "   viscera_weight  shell_weight  type  \n",
       "0        0.200790      0.237668     3  \n",
       "1        0.148782      0.163926     1  \n",
       "2        0.009217      0.007972     1  \n",
       "3        0.206057      0.217738     3  \n",
       "4        0.177090      0.222720     1  "
      ]
     },
     "execution_count": 10,
     "metadata": {},
     "output_type": "execute_result"
    }
   ],
   "source": [
    "dataframe.head()"
   ]
  },
  {
   "cell_type": "code",
   "execution_count": 11,
   "metadata": {},
   "outputs": [
    {
     "data": {
      "text/plain": [
       "(3132, 9)"
      ]
     },
     "execution_count": 11,
     "metadata": {},
     "output_type": "execute_result"
    }
   ],
   "source": [
    "dataframe.shape"
   ]
  },
  {
   "cell_type": "markdown",
   "metadata": {},
   "source": [
    "# Decision Tree"
   ]
  },
  {
   "cell_type": "code",
   "execution_count": 12,
   "metadata": {},
   "outputs": [],
   "source": [
    "from sklearn import tree\n",
    "from sklearn.feature_selection import RFE\n",
    "from sklearn.model_selection import StratifiedKFold\n",
    "from sklearn.linear_model import LinearRegression\n",
    "from sklearn.metrics import roc_auc_score\n",
    "from sklearn.model_selection import cross_validate\n",
    "from sklearn.metrics.scorer import make_scorer\n",
    "from sklearn.metrics import confusion_matrix\n",
    "from functools import reduce"
   ]
  },
  {
   "cell_type": "code",
   "execution_count": 6,
   "metadata": {},
   "outputs": [],
   "source": [
    "Dtreeres = [] "
   ]
  },
  {
   "cell_type": "code",
   "execution_count": 7,
   "metadata": {},
   "outputs": [],
   "source": [
    "kf = StratifiedKFold(n_splits=10)\n",
    "X,Y = dataframe[dataframe.columns[:-1]],dataframe[dataframe.columns[-1]]    "
   ]
  },
  {
   "cell_type": "code",
   "execution_count": 8,
   "metadata": {},
   "outputs": [],
   "source": [
    "for u in range(5,11):\n",
    "    for i in range(5,21):\n",
    "        clf = tree.DecisionTreeClassifier(max_depth=u,max_leaf_nodes=i)\n",
    "        select = RFE(clf, n_features_to_select=4)\n",
    "        sumAcc = []\n",
    "        for train_index,test_index in kf.split(X,Y):\n",
    "            xTrain,yTrain = dataframe.iloc[train_index][dataframe.columns[:-1]],dataframe.iloc[train_index][dataframe.columns[-1]]\n",
    "            xTest,yTest = dataframe.iloc[test_index][dataframe.columns[:-1]],dataframe.iloc[test_index][dataframe.columns[-1]]\n",
    "            select.fit(xTrain,yTrain)\n",
    "            select.predict(xTest)\n",
    "            Acc=select.score(xTest,yTest)\n",
    "            sumAcc.append(Acc) \n",
    "        Dtreeres.append([np.array(sumAcc).mean(),u,i])"
   ]
  },
  {
   "cell_type": "code",
   "execution_count": 10,
   "metadata": {
    "scrolled": true
   },
   "outputs": [],
   "source": [
    "Dtree = pd.DataFrame(np.matrix(Dtreeres),columns=[\"Acc\",\"Max_depth\",\"Max_leaf_nodes\"])"
   ]
  },
  {
   "cell_type": "code",
   "execution_count": 11,
   "metadata": {},
   "outputs": [
    {
     "data": {
      "text/plain": [
       "Acc                0.632481\n",
       "Max_depth          6.000000\n",
       "Max_leaf_nodes    19.000000\n",
       "Name: 30, dtype: float64"
      ]
     },
     "execution_count": 11,
     "metadata": {},
     "output_type": "execute_result"
    }
   ],
   "source": [
    "Dtree.loc[Dtree[\"Acc\"].idxmax()]"
   ]
  }
 ],
 "metadata": {
  "kernelspec": {
   "display_name": "Python 3",
   "language": "python",
   "name": "python3"
  },
  "language_info": {
   "codemirror_mode": {
    "name": "ipython",
    "version": 3
   },
   "file_extension": ".py",
   "mimetype": "text/x-python",
   "name": "python",
   "nbconvert_exporter": "python",
   "pygments_lexer": "ipython3",
   "version": "3.7.2"
  }
 },
 "nbformat": 4,
 "nbformat_minor": 2
}
