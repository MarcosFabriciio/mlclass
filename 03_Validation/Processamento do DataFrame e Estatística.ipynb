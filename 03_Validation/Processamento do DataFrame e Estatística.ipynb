{
 "cells": [
  {
   "cell_type": "code",
   "execution_count": 1,
   "metadata": {},
   "outputs": [],
   "source": [
    "import pandas"
   ]
  },
  {
   "cell_type": "code",
   "execution_count": 2,
   "metadata": {},
   "outputs": [],
   "source": [
    "import numpy"
   ]
  },
  {
   "cell_type": "code",
   "execution_count": 3,
   "metadata": {},
   "outputs": [],
   "source": [
    "abalones = pandas.read_excel(\"abalone_dataset.xlsx\")\n",
    "test = pandas.read_excel(\"abalone_app.xlsx\")"
   ]
  },
  {
   "cell_type": "code",
   "execution_count": 4,
   "metadata": {},
   "outputs": [],
   "source": [
    "#Formatando para 4 casas decimais\n",
    "abalones.round(4);\n",
    "test.round(4);"
   ]
  },
  {
   "cell_type": "code",
   "execution_count": 5,
   "metadata": {},
   "outputs": [],
   "source": [
    "#Mudando sexo:\n",
    "# M = 0\n",
    "# F = 1\n",
    "# I = -1\n",
    "\n",
    "normalizedSex = []\n",
    "\n",
    "for item in abalones[\"sex\"]:\n",
    "    normalizedSex.append({\"M\": 0, \"F\": 1, \"I\": -1}[item])\n",
    "\n",
    "abalones[\"sex\"] = normalizedSex;\n",
    "\n",
    "normalizedSex = []\n",
    "\n",
    "for item in test[\"sex\"]:\n",
    "    normalizedSex.append({\"M\": 0, \"F\": 1, \"I\": -1}[item])\n",
    "\n",
    "test[\"sex\"] = normalizedSex;"
   ]
  },
  {
   "cell_type": "code",
   "execution_count": 6,
   "metadata": {},
   "outputs": [
    {
     "name": "stdout",
     "output_type": "stream",
     "text": [
      "                     sex    length  diameter    height  whole_weight  \\\n",
      "sex             1.000000  0.508068  0.521136  0.506666      0.505646   \n",
      "length          0.508068  1.000000  0.987063  0.891287      0.924125   \n",
      "diameter        0.521136  0.987063  1.000000  0.898236      0.925135   \n",
      "height          0.506666  0.891287  0.898236  1.000000      0.883098   \n",
      "whole_weight    0.505646  0.924125  0.925135  0.883098      1.000000   \n",
      "shucked_weight  0.460356  0.895178  0.891759  0.832339      0.969027   \n",
      "viscera_weight  0.509835  0.901025  0.898265  0.859120      0.966725   \n",
      "shell_weight    0.502540  0.895045  0.902889  0.880513      0.954062   \n",
      "type            0.455565  0.582482  0.597654  0.607524      0.580626   \n",
      "\n",
      "                shucked_weight  viscera_weight  shell_weight      type  \n",
      "sex                   0.460356        0.509835      0.502540  0.455565  \n",
      "length                0.895178        0.901025      0.895045  0.582482  \n",
      "diameter              0.891759        0.898265      0.902889  0.597654  \n",
      "height                0.832339        0.859120      0.880513  0.607524  \n",
      "whole_weight          0.969027        0.966725      0.954062  0.580626  \n",
      "shucked_weight        1.000000        0.930324      0.879352  0.491211  \n",
      "viscera_weight        0.930324        1.000000      0.905025  0.564292  \n",
      "shell_weight          0.879352        0.905025      1.000000  0.630489  \n",
      "type                  0.491211        0.564292      0.630489  1.000000  \n"
     ]
    }
   ],
   "source": [
    "print(abalones.corr())"
   ]
  },
  {
   "cell_type": "code",
   "execution_count": 7,
   "metadata": {
    "scrolled": true
   },
   "outputs": [],
   "source": [
    "abalones.hist();"
   ]
  },
  {
   "cell_type": "code",
   "execution_count": 8,
   "metadata": {},
   "outputs": [],
   "source": [
    "#Normalização 0 - 1\n",
    "for col in abalones.columns:\n",
    "    if col != \"type\" and col != \"sex\":\n",
    "        newCol = [];\n",
    "        maxValue = abalones[col].max();\n",
    "        minValue = abalones[col].min();\n",
    "        for val in abalones[col]:\n",
    "            newCol.append((val - minValue)/(maxValue-minValue));\n",
    "        abalones[col] = newCol;\n",
    "\n",
    "        \n",
    "for col in test.columns:\n",
    "    if col != \"type\" and col != \"sex\":\n",
    "        newCol = [];\n",
    "        maxValue = test[col].max();\n",
    "        minValue = test[col].min();\n",
    "        for val in test[col]:\n",
    "            newCol.append((val - minValue)/(maxValue-minValue));\n",
    "        test[col] = newCol;"
   ]
  },
  {
   "cell_type": "code",
   "execution_count": 11,
   "metadata": {},
   "outputs": [],
   "source": [
    "abalones.to_excel(\"dataset_processado.xlsx\");\n",
    "test.to_excel(\"app_processado.xlsx\");"
   ]
  }
 ],
 "metadata": {
  "kernelspec": {
   "display_name": "Python 3",
   "language": "python",
   "name": "python3"
  },
  "language_info": {
   "codemirror_mode": {
    "name": "ipython",
    "version": 3
   },
   "file_extension": ".py",
   "mimetype": "text/x-python",
   "name": "python",
   "nbconvert_exporter": "python",
   "pygments_lexer": "ipython3",
   "version": "3.7.0"
  }
 },
 "nbformat": 4,
 "nbformat_minor": 2
}
