{
 "cells": [
  {
   "cell_type": "code",
   "execution_count": 1,
   "metadata": {},
   "outputs": [],
   "source": [
    "import pandas as pd\n",
    "import numpy as np\n",
    "import matplotlib.pyplot as plt\n",
    "from os import listdir,chdir\n",
    "from os.path import abspath,basename,dirname,join\n",
    "import sklearn.preprocessing as prepro\n",
    "from sklearn.preprocessing import LabelEncoder, OneHotEncoder"
   ]
  },
  {
   "cell_type": "code",
   "execution_count": 2,
   "metadata": {},
   "outputs": [],
   "source": [
    "abalone = pd.read_csv(\"abalone_app.csv\")"
   ]
  },
  {
   "cell_type": "code",
   "execution_count": 3,
   "metadata": {},
   "outputs": [],
   "source": [
    "abalone['sex'] = LabelEncoder().fit_transform(abalone['sex'].tolist())"
   ]
  },
  {
   "cell_type": "code",
   "execution_count": 4,
   "metadata": {},
   "outputs": [
    {
     "data": {
      "text/html": [
       "<div>\n",
       "<style scoped>\n",
       "    .dataframe tbody tr th:only-of-type {\n",
       "        vertical-align: middle;\n",
       "    }\n",
       "\n",
       "    .dataframe tbody tr th {\n",
       "        vertical-align: top;\n",
       "    }\n",
       "\n",
       "    .dataframe thead th {\n",
       "        text-align: right;\n",
       "    }\n",
       "</style>\n",
       "<table border=\"1\" class=\"dataframe\">\n",
       "  <thead>\n",
       "    <tr style=\"text-align: right;\">\n",
       "      <th></th>\n",
       "      <th>sex</th>\n",
       "      <th>length</th>\n",
       "      <th>diameter</th>\n",
       "      <th>height</th>\n",
       "      <th>whole_weight</th>\n",
       "      <th>shucked_weight</th>\n",
       "      <th>viscera_weight</th>\n",
       "      <th>shell_weight</th>\n",
       "    </tr>\n",
       "  </thead>\n",
       "  <tbody>\n",
       "    <tr>\n",
       "      <th>0</th>\n",
       "      <td>2</td>\n",
       "      <td>0.600</td>\n",
       "      <td>0.480</td>\n",
       "      <td>0.175</td>\n",
       "      <td>1.2290</td>\n",
       "      <td>0.4125</td>\n",
       "      <td>0.2735</td>\n",
       "      <td>0.4150</td>\n",
       "    </tr>\n",
       "    <tr>\n",
       "      <th>1</th>\n",
       "      <td>0</td>\n",
       "      <td>0.545</td>\n",
       "      <td>0.385</td>\n",
       "      <td>0.150</td>\n",
       "      <td>1.1185</td>\n",
       "      <td>0.5425</td>\n",
       "      <td>0.2445</td>\n",
       "      <td>0.2845</td>\n",
       "    </tr>\n",
       "    <tr>\n",
       "      <th>2</th>\n",
       "      <td>0</td>\n",
       "      <td>0.645</td>\n",
       "      <td>0.520</td>\n",
       "      <td>0.180</td>\n",
       "      <td>1.2850</td>\n",
       "      <td>0.5775</td>\n",
       "      <td>0.3520</td>\n",
       "      <td>0.3170</td>\n",
       "    </tr>\n",
       "    <tr>\n",
       "      <th>3</th>\n",
       "      <td>2</td>\n",
       "      <td>0.640</td>\n",
       "      <td>0.510</td>\n",
       "      <td>0.170</td>\n",
       "      <td>1.3715</td>\n",
       "      <td>0.5670</td>\n",
       "      <td>0.3070</td>\n",
       "      <td>0.4090</td>\n",
       "    </tr>\n",
       "    <tr>\n",
       "      <th>4</th>\n",
       "      <td>0</td>\n",
       "      <td>0.655</td>\n",
       "      <td>0.540</td>\n",
       "      <td>0.215</td>\n",
       "      <td>1.5555</td>\n",
       "      <td>0.6950</td>\n",
       "      <td>0.2960</td>\n",
       "      <td>0.4440</td>\n",
       "    </tr>\n",
       "  </tbody>\n",
       "</table>\n",
       "</div>"
      ],
      "text/plain": [
       "   sex  length  diameter  height  whole_weight  shucked_weight  \\\n",
       "0    2   0.600     0.480   0.175        1.2290          0.4125   \n",
       "1    0   0.545     0.385   0.150        1.1185          0.5425   \n",
       "2    0   0.645     0.520   0.180        1.2850          0.5775   \n",
       "3    2   0.640     0.510   0.170        1.3715          0.5670   \n",
       "4    0   0.655     0.540   0.215        1.5555          0.6950   \n",
       "\n",
       "   viscera_weight  shell_weight  \n",
       "0          0.2735        0.4150  \n",
       "1          0.2445        0.2845  \n",
       "2          0.3520        0.3170  \n",
       "3          0.3070        0.4090  \n",
       "4          0.2960        0.4440  "
      ]
     },
     "execution_count": 4,
     "metadata": {},
     "output_type": "execute_result"
    }
   ],
   "source": [
    "abalone.head()"
   ]
  },
  {
   "cell_type": "code",
   "execution_count": 5,
   "metadata": {},
   "outputs": [],
   "source": [
    "# transformed_sex_feature = OneHotEncoder().fit_transform(abalone['sex'].values.reshape(-1,1)).toarray()\n",
    "# df_sex_encoded = pd.DataFrame(transformed_sex_feature, columns = [\"sex_\"+str(int(i)) for i in range(transformed_sex_feature.shape[1])])\n",
    "# abalone = pd.concat([abalone, df_sex_encoded], axis=1)"
   ]
  },
  {
   "cell_type": "code",
   "execution_count": 6,
   "metadata": {},
   "outputs": [],
   "source": [
    "# abalone = abalone[['length','diameter','height','whole_weight','shucked_weight','viscera_weight','shell_weight','sex_0','sex_1','sex_2']]"
   ]
  },
  {
   "cell_type": "code",
   "execution_count": 7,
   "metadata": {},
   "outputs": [],
   "source": [
    "numsei = abalone[[\"sex\"]].astype('int64')"
   ]
  },
  {
   "cell_type": "code",
   "execution_count": 8,
   "metadata": {},
   "outputs": [],
   "source": [
    "minmax_scaler = prepro.MinMaxScaler(feature_range=(0,1))"
   ]
  },
  {
   "cell_type": "code",
   "execution_count": 9,
   "metadata": {},
   "outputs": [],
   "source": [
    "abaloneMinMax = minmax_scaler.fit_transform(abalone[abalone.columns[1:]])"
   ]
  },
  {
   "cell_type": "code",
   "execution_count": 10,
   "metadata": {},
   "outputs": [],
   "source": [
    "abalone_scaled = pd.DataFrame(abaloneMinMax, columns=abalone.columns[1:])"
   ]
  },
  {
   "cell_type": "code",
   "execution_count": 11,
   "metadata": {},
   "outputs": [],
   "source": [
    "abalone_scaled = pd.merge(abalone_scaled,numsei, how='outer', on=abalone.index)"
   ]
  },
  {
   "cell_type": "code",
   "execution_count": 12,
   "metadata": {},
   "outputs": [],
   "source": [
    "abalone_scaled = abalone_scaled.drop(columns='key_0')"
   ]
  },
  {
   "cell_type": "code",
   "execution_count": 13,
   "metadata": {},
   "outputs": [
    {
     "data": {
      "text/html": [
       "<div>\n",
       "<style scoped>\n",
       "    .dataframe tbody tr th:only-of-type {\n",
       "        vertical-align: middle;\n",
       "    }\n",
       "\n",
       "    .dataframe tbody tr th {\n",
       "        vertical-align: top;\n",
       "    }\n",
       "\n",
       "    .dataframe thead th {\n",
       "        text-align: right;\n",
       "    }\n",
       "</style>\n",
       "<table border=\"1\" class=\"dataframe\">\n",
       "  <thead>\n",
       "    <tr style=\"text-align: right;\">\n",
       "      <th></th>\n",
       "      <th>length</th>\n",
       "      <th>diameter</th>\n",
       "      <th>height</th>\n",
       "      <th>whole_weight</th>\n",
       "      <th>shucked_weight</th>\n",
       "      <th>viscera_weight</th>\n",
       "      <th>shell_weight</th>\n",
       "      <th>sex</th>\n",
       "    </tr>\n",
       "  </thead>\n",
       "  <tbody>\n",
       "    <tr>\n",
       "      <th>0</th>\n",
       "      <td>0.727273</td>\n",
       "      <td>0.727273</td>\n",
       "      <td>0.139640</td>\n",
       "      <td>0.477335</td>\n",
       "      <td>0.354641</td>\n",
       "      <td>0.493126</td>\n",
       "      <td>0.465909</td>\n",
       "      <td>2</td>\n",
       "    </tr>\n",
       "    <tr>\n",
       "      <th>1</th>\n",
       "      <td>0.636364</td>\n",
       "      <td>0.535354</td>\n",
       "      <td>0.117117</td>\n",
       "      <td>0.433780</td>\n",
       "      <td>0.468476</td>\n",
       "      <td>0.439963</td>\n",
       "      <td>0.317614</td>\n",
       "      <td>0</td>\n",
       "    </tr>\n",
       "    <tr>\n",
       "      <th>2</th>\n",
       "      <td>0.801653</td>\n",
       "      <td>0.808081</td>\n",
       "      <td>0.144144</td>\n",
       "      <td>0.499409</td>\n",
       "      <td>0.499124</td>\n",
       "      <td>0.637030</td>\n",
       "      <td>0.354545</td>\n",
       "      <td>0</td>\n",
       "    </tr>\n",
       "    <tr>\n",
       "      <th>3</th>\n",
       "      <td>0.793388</td>\n",
       "      <td>0.787879</td>\n",
       "      <td>0.135135</td>\n",
       "      <td>0.533504</td>\n",
       "      <td>0.489930</td>\n",
       "      <td>0.554537</td>\n",
       "      <td>0.459091</td>\n",
       "      <td>2</td>\n",
       "    </tr>\n",
       "    <tr>\n",
       "      <th>4</th>\n",
       "      <td>0.818182</td>\n",
       "      <td>0.848485</td>\n",
       "      <td>0.175676</td>\n",
       "      <td>0.606031</td>\n",
       "      <td>0.602014</td>\n",
       "      <td>0.534372</td>\n",
       "      <td>0.498864</td>\n",
       "      <td>0</td>\n",
       "    </tr>\n",
       "  </tbody>\n",
       "</table>\n",
       "</div>"
      ],
      "text/plain": [
       "     length  diameter    height  whole_weight  shucked_weight  viscera_weight  \\\n",
       "0  0.727273  0.727273  0.139640      0.477335        0.354641        0.493126   \n",
       "1  0.636364  0.535354  0.117117      0.433780        0.468476        0.439963   \n",
       "2  0.801653  0.808081  0.144144      0.499409        0.499124        0.637030   \n",
       "3  0.793388  0.787879  0.135135      0.533504        0.489930        0.554537   \n",
       "4  0.818182  0.848485  0.175676      0.606031        0.602014        0.534372   \n",
       "\n",
       "   shell_weight  sex  \n",
       "0      0.465909    2  \n",
       "1      0.317614    0  \n",
       "2      0.354545    0  \n",
       "3      0.459091    2  \n",
       "4      0.498864    0  "
      ]
     },
     "execution_count": 13,
     "metadata": {},
     "output_type": "execute_result"
    }
   ],
   "source": [
    "abalone_scaled.head()"
   ]
  },
  {
   "cell_type": "code",
   "execution_count": 14,
   "metadata": {},
   "outputs": [],
   "source": [
    "abalone_scaled.to_csv(\"abalone_app_min_max.csv\", index=False)"
   ]
  }
 ],
 "metadata": {
  "kernelspec": {
   "display_name": "Python 3",
   "language": "python",
   "name": "python3"
  },
  "language_info": {
   "codemirror_mode": {
    "name": "ipython",
    "version": 3
   },
   "file_extension": ".py",
   "mimetype": "text/x-python",
   "name": "python",
   "nbconvert_exporter": "python",
   "pygments_lexer": "ipython3",
   "version": "3.7.0"
  }
 },
 "nbformat": 4,
 "nbformat_minor": 2
}
