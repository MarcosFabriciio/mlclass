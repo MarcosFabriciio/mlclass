{
 "cells": [
  {
   "cell_type": "code",
   "execution_count": 1,
   "metadata": {},
   "outputs": [],
   "source": [
    "import pandas as pd\n",
    "import numpy as np\n",
    "from os import listdir\n",
    "import matplotlib.pyplot as plt\n",
    "from sklearn.ensemble import RandomForestClassifier\n",
    "from sklearn.model_selection import train_test_split"
   ]
  },
  {
   "cell_type": "code",
   "execution_count": 2,
   "metadata": {},
   "outputs": [],
   "source": [
    "files = [x for x in listdir() if x.endswith(\".csv\")]\n",
    "\n",
    "files.remove('abalone_app.csv')\n",
    "files.remove('abalone_dataset.csv')\n",
    "\n",
    "files\n",
    "\n",
    "abalones = []\n",
    "\n",
    "for file in files:\n",
    "    abalones.append(pd.read_csv(file))"
   ]
  },
  {
   "cell_type": "code",
   "execution_count": 3,
   "metadata": {},
   "outputs": [
    {
     "name": "stdout",
     "output_type": "stream",
     "text": [
      "Dataframe Utilizado: abalone_L2.csv\n",
      "\n",
      "\tAcuracia: 0.6847133757961783\n",
      "\n",
      "Dataframe Utilizado: abalone_sex_bin.csv\n",
      "\n",
      "\tAcuracia: 0.6464968152866242\n",
      "\n",
      "Dataframe Utilizado: abalone_min_max.csv\n",
      "\n",
      "\tAcuracia: 0.6464968152866242\n",
      "\n",
      "Dataframe Utilizado: abalone_app_min_max.csv\n",
      "\n",
      "\tAcuracia: 1.0\n",
      "\n",
      "Dataframe Utilizado: abalone_L1.csv\n",
      "\n",
      "\tAcuracia: 0.6847133757961783\n",
      "\n"
     ]
    }
   ],
   "source": [
    "TrainAcc = []\n",
    "TestAcc = []\n",
    "for x in range(0,len(abalones)):\n",
    "    print(\"Dataframe Utilizado: {}\\n\".format(files[x]))\n",
    "    X,Y = abalones[x][abalones[x].columns[:-1]],abalones[x][abalones[x].columns[-1]]\n",
    "    Xtrain, Xtest, Ytrain, Ytest = train_test_split(X, Y, stratify = Y, random_state=66, test_size=0.10)\n",
    "    forest = RandomForestClassifier(n_estimators=150, random_state=0, max_depth=5, max_leaf_nodes=15)\n",
    "    forest.fit(Xtrain,Ytrain)\n",
    "    TrainAcc.append(forest.score(Xtrain,Ytrain))\n",
    "    TestAcc.append(forest.score(Xtest,Ytest))\n",
    "    print(\"\\tAcuracia: {}\\n\".format(forest.score(Xtest,Ytest)))"
   ]
  }
 ],
 "metadata": {
  "kernelspec": {
   "display_name": "Python 3",
   "language": "python",
   "name": "python3"
  },
  "language_info": {
   "codemirror_mode": {
    "name": "ipython",
    "version": 3
   },
   "file_extension": ".py",
   "mimetype": "text/x-python",
   "name": "python",
   "nbconvert_exporter": "python",
   "pygments_lexer": "ipython3",
   "version": "3.6.7"
  }
 },
 "nbformat": 4,
 "nbformat_minor": 2
}
