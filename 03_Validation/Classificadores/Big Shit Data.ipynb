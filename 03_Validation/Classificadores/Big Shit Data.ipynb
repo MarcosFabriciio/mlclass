{
 "cells": [
  {
   "cell_type": "code",
   "execution_count": 1,
   "metadata": {
    "scrolled": true
   },
   "outputs": [
    {
     "name": "stderr",
     "output_type": "stream",
     "text": [
      "/home/marcosfabricio/anaconda3/lib/python3.7/site-packages/sklearn/ensemble/weight_boosting.py:29: DeprecationWarning: numpy.core.umath_tests is an internal NumPy module and should not be imported. It will be removed in a future NumPy release.\n",
      "  from numpy.core.umath_tests import inner1d\n"
     ]
    }
   ],
   "source": [
    "import pandas as pd\n",
    "import numpy as np\n",
    "from os import listdir\n",
    "import matplotlib.pyplot as plt\n",
    "from sklearn.tree import DecisionTreeClassifier, export_graphviz\n",
    "from sklearn.neural_network import MLPClassifier\n",
    "from sklearn.linear_model import LogisticRegression\n",
    "from sklearn.svm import SVC\n",
    "from sklearn.ensemble import RandomForestClassifier\n",
    "from sklearn.model_selection import train_test_split, GridSearchCV, cross_validate\n",
    "from sklearn.feature_selection import RFECV\n",
    "from sklearn.pipeline import Pipeline,make_pipeline\n",
    "from sklearn.preprocessing import MinMaxScaler,Normalizer,StandardScaler,MaxAbsScaler, LabelEncoder\n",
    "\n",
    "#import graphviz"
   ]
  },
  {
   "cell_type": "code",
   "execution_count": 2,
   "metadata": {
    "scrolled": true
   },
   "outputs": [],
   "source": [
    "#Transformando a coluna de sexo de testo pra numero e considerando ela como dado categorico\n",
    "df = pd.read_csv(\"abalone_sex_bin.csv\")\n",
    "df['sex'] = LabelEncoder().fit_transform(df['sex'].tolist())\n",
    "df['sex'] = df['sex'].astype('category')\n",
    "# df = df.drop(columns = \"sex\")"
   ]
  },
  {
   "cell_type": "code",
   "execution_count": 3,
   "metadata": {},
   "outputs": [],
   "source": [
    "# Preprocessamento da base\n",
    "preps = [MinMaxScaler,Normalizer,StandardScaler,MaxAbsScaler]\n",
    "# Modelos a serem testados\n",
    "models = [SVC,LogisticRegression,MLPClassifier,RandomForestClassifier,DecisionTreeClassifier]\n",
    "# Pipeline para testar todos os modelos com todos os preprocessamento\n",
    "pipes = [make_pipeline(prepo(),model()) for model in models for prepo in preps]"
   ]
  },
  {
   "cell_type": "code",
   "execution_count": 4,
   "metadata": {
    "scrolled": true
   },
   "outputs": [],
   "source": [
    "results = []\n",
    "for pipe in pipes:\n",
    "    res = np.median(cross_validate(pipe,df.drop(columns=\"type\"),df[\"type\"],scoring=\"accuracy\",cv=10)[\"test_score\"])\n",
    "    results.append(np.append(np.array(pipe.steps)[:,0],res))"
   ]
  },
  {
   "cell_type": "code",
   "execution_count": 5,
   "metadata": {
    "scrolled": true
   },
   "outputs": [
    {
     "data": {
      "text/plain": [
       "sex               category\n",
       "length             float64\n",
       "diameter           float64\n",
       "height             float64\n",
       "whole_weight       float64\n",
       "shucked_weight     float64\n",
       "viscera_weight     float64\n",
       "shell_weight       float64\n",
       "type                 int64\n",
       "dtype: object"
      ]
     },
     "execution_count": 5,
     "metadata": {},
     "output_type": "execute_result"
    }
   ],
   "source": [
    "df.dtypes"
   ]
  },
  {
   "cell_type": "code",
   "execution_count": 6,
   "metadata": {
    "scrolled": true
   },
   "outputs": [
    {
     "data": {
      "text/html": [
       "<div>\n",
       "<style scoped>\n",
       "    .dataframe tbody tr th:only-of-type {\n",
       "        vertical-align: middle;\n",
       "    }\n",
       "\n",
       "    .dataframe tbody tr th {\n",
       "        vertical-align: top;\n",
       "    }\n",
       "\n",
       "    .dataframe thead th {\n",
       "        text-align: right;\n",
       "    }\n",
       "</style>\n",
       "<table border=\"1\" class=\"dataframe\">\n",
       "  <thead>\n",
       "    <tr style=\"text-align: right;\">\n",
       "      <th></th>\n",
       "      <th>Preprocessing</th>\n",
       "      <th>Model</th>\n",
       "      <th>Median-Accuracy</th>\n",
       "    </tr>\n",
       "  </thead>\n",
       "  <tbody>\n",
       "    <tr>\n",
       "      <th>10</th>\n",
       "      <td>standardscaler</td>\n",
       "      <td>mlpclassifier</td>\n",
       "      <td>0.660830</td>\n",
       "    </tr>\n",
       "    <tr>\n",
       "      <th>11</th>\n",
       "      <td>maxabsscaler</td>\n",
       "      <td>mlpclassifier</td>\n",
       "      <td>0.657099</td>\n",
       "    </tr>\n",
       "    <tr>\n",
       "      <th>6</th>\n",
       "      <td>standardscaler</td>\n",
       "      <td>logisticregression</td>\n",
       "      <td>0.654952</td>\n",
       "    </tr>\n",
       "    <tr>\n",
       "      <th>2</th>\n",
       "      <td>standardscaler</td>\n",
       "      <td>svc</td>\n",
       "      <td>0.653904</td>\n",
       "    </tr>\n",
       "    <tr>\n",
       "      <th>9</th>\n",
       "      <td>normalizer</td>\n",
       "      <td>mlpclassifier</td>\n",
       "      <td>0.646412</td>\n",
       "    </tr>\n",
       "    <tr>\n",
       "      <th>8</th>\n",
       "      <td>minmaxscaler</td>\n",
       "      <td>mlpclassifier</td>\n",
       "      <td>0.640002</td>\n",
       "    </tr>\n",
       "    <tr>\n",
       "      <th>4</th>\n",
       "      <td>minmaxscaler</td>\n",
       "      <td>logisticregression</td>\n",
       "      <td>0.638404</td>\n",
       "    </tr>\n",
       "    <tr>\n",
       "      <th>14</th>\n",
       "      <td>standardscaler</td>\n",
       "      <td>randomforestclassifier</td>\n",
       "      <td>0.637380</td>\n",
       "    </tr>\n",
       "    <tr>\n",
       "      <th>7</th>\n",
       "      <td>maxabsscaler</td>\n",
       "      <td>logisticregression</td>\n",
       "      <td>0.636807</td>\n",
       "    </tr>\n",
       "    <tr>\n",
       "      <th>13</th>\n",
       "      <td>normalizer</td>\n",
       "      <td>randomforestclassifier</td>\n",
       "      <td>0.634615</td>\n",
       "    </tr>\n",
       "    <tr>\n",
       "      <th>12</th>\n",
       "      <td>minmaxscaler</td>\n",
       "      <td>randomforestclassifier</td>\n",
       "      <td>0.627196</td>\n",
       "    </tr>\n",
       "    <tr>\n",
       "      <th>15</th>\n",
       "      <td>maxabsscaler</td>\n",
       "      <td>randomforestclassifier</td>\n",
       "      <td>0.626194</td>\n",
       "    </tr>\n",
       "    <tr>\n",
       "      <th>5</th>\n",
       "      <td>normalizer</td>\n",
       "      <td>logisticregression</td>\n",
       "      <td>0.620414</td>\n",
       "    </tr>\n",
       "    <tr>\n",
       "      <th>3</th>\n",
       "      <td>maxabsscaler</td>\n",
       "      <td>svc</td>\n",
       "      <td>0.616610</td>\n",
       "    </tr>\n",
       "    <tr>\n",
       "      <th>0</th>\n",
       "      <td>minmaxscaler</td>\n",
       "      <td>svc</td>\n",
       "      <td>0.615007</td>\n",
       "    </tr>\n",
       "    <tr>\n",
       "      <th>18</th>\n",
       "      <td>standardscaler</td>\n",
       "      <td>decisiontreeclassifier</td>\n",
       "      <td>0.567093</td>\n",
       "    </tr>\n",
       "    <tr>\n",
       "      <th>17</th>\n",
       "      <td>normalizer</td>\n",
       "      <td>decisiontreeclassifier</td>\n",
       "      <td>0.564621</td>\n",
       "    </tr>\n",
       "    <tr>\n",
       "      <th>19</th>\n",
       "      <td>maxabsscaler</td>\n",
       "      <td>decisiontreeclassifier</td>\n",
       "      <td>0.563196</td>\n",
       "    </tr>\n",
       "    <tr>\n",
       "      <th>1</th>\n",
       "      <td>normalizer</td>\n",
       "      <td>svc</td>\n",
       "      <td>0.563002</td>\n",
       "    </tr>\n",
       "    <tr>\n",
       "      <th>16</th>\n",
       "      <td>minmaxscaler</td>\n",
       "      <td>decisiontreeclassifier</td>\n",
       "      <td>0.555199</td>\n",
       "    </tr>\n",
       "  </tbody>\n",
       "</table>\n",
       "</div>"
      ],
      "text/plain": [
       "     Preprocessing                   Model  Median-Accuracy\n",
       "10  standardscaler           mlpclassifier         0.660830\n",
       "11    maxabsscaler           mlpclassifier         0.657099\n",
       "6   standardscaler      logisticregression         0.654952\n",
       "2   standardscaler                     svc         0.653904\n",
       "9       normalizer           mlpclassifier         0.646412\n",
       "8     minmaxscaler           mlpclassifier         0.640002\n",
       "4     minmaxscaler      logisticregression         0.638404\n",
       "14  standardscaler  randomforestclassifier         0.637380\n",
       "7     maxabsscaler      logisticregression         0.636807\n",
       "13      normalizer  randomforestclassifier         0.634615\n",
       "12    minmaxscaler  randomforestclassifier         0.627196\n",
       "15    maxabsscaler  randomforestclassifier         0.626194\n",
       "5       normalizer      logisticregression         0.620414\n",
       "3     maxabsscaler                     svc         0.616610\n",
       "0     minmaxscaler                     svc         0.615007\n",
       "18  standardscaler  decisiontreeclassifier         0.567093\n",
       "17      normalizer  decisiontreeclassifier         0.564621\n",
       "19    maxabsscaler  decisiontreeclassifier         0.563196\n",
       "1       normalizer                     svc         0.563002\n",
       "16    minmaxscaler  decisiontreeclassifier         0.555199"
      ]
     },
     "execution_count": 6,
     "metadata": {},
     "output_type": "execute_result"
    }
   ],
   "source": [
    "pd.DataFrame(results,columns=[\"Preprocessing\",\"Model\",\"Median-Accuracy\"]).sort_values(by=\"Median-Accuracy\",ascending=False)"
   ]
  },
  {
   "cell_type": "markdown",
   "metadata": {},
   "source": [
    "# Pegamos o melhor modelo e preprocessamento, para testar no GridSearch"
   ]
  },
  {
   "cell_type": "code",
   "execution_count": 7,
   "metadata": {},
   "outputs": [],
   "source": [
    "# Pipeline para o grid search\n",
    "pipe = make_pipeline(MinMaxScaler(feature_range=(0.1,0.9)),MLPClassifier())\n",
    "# Dicionario de parametros a serem testados pelo grid search\n",
    "logparameters = {'logisticregression__penalty':['l2'], 'logisticregression__solver':('newton-cg', 'lbfgs', 'sag', 'saga'), 'logisticregression__C': (np.arange(10,100,10)), 'logisticregression__multi_class':['multinomial'], 'logisticregression__max_iter':[1000]}\n",
    "mlpparameters = {'activation':['tanh'], 'solver': ['lbfgs'], 'max_iter': [1000], 'alpha': [1], 'hidden_layer_sizes':[(16,)]}"
   ]
  },
  {
   "cell_type": "code",
   "execution_count": 8,
   "metadata": {},
   "outputs": [],
   "source": [
    "# GridSearch com cros validation, testa o modelo com todas as combinações de parametros passadas no dicionario,\n",
    "# e classifica a melhor de acordo com uma metrica que escolhermos, nesse caso a acuracia.\n",
    "clf = GridSearchCV(MLPClassifier(),mlpparameters,scoring=\"accuracy\", cv=10, n_jobs=-1)"
   ]
  },
  {
   "cell_type": "code",
   "execution_count": 9,
   "metadata": {
    "scrolled": true
   },
   "outputs": [
    {
     "name": "stdout",
     "output_type": "stream",
     "text": [
      "CPU times: user 4.06 s, sys: 112 ms, total: 4.17 s\n",
      "Wall time: 18.7 s\n"
     ]
    },
    {
     "data": {
      "text/plain": [
       "GridSearchCV(cv=10, error_score='raise',\n",
       "       estimator=MLPClassifier(activation='relu', alpha=0.0001, batch_size='auto', beta_1=0.9,\n",
       "       beta_2=0.999, early_stopping=False, epsilon=1e-08,\n",
       "       hidden_layer_sizes=(100,), learning_rate='constant',\n",
       "       learning_rate_init=0.001, max_iter=200, momentum=0.9,\n",
       "       nesterovs_momentum=True, power_t=0.5, random_state=None,\n",
       "       shuffle=True, solver='adam', tol=0.0001, validation_fraction=0.1,\n",
       "       verbose=False, warm_start=False),\n",
       "       fit_params=None, iid=True, n_jobs=-1,\n",
       "       param_grid={'activation': ['tanh'], 'solver': ['lbfgs'], 'max_iter': [1000], 'alpha': [1], 'hidden_layer_sizes': [(16,)]},\n",
       "       pre_dispatch='2*n_jobs', refit=True, return_train_score='warn',\n",
       "       scoring='accuracy', verbose=0)"
      ]
     },
     "execution_count": 9,
     "metadata": {},
     "output_type": "execute_result"
    }
   ],
   "source": [
    "%%time\n",
    "clf.fit(df.drop(columns=\"type\"),df[\"type\"])"
   ]
  },
  {
   "cell_type": "markdown",
   "metadata": {},
   "source": [
    "# Seleção de atributos recursivamente\n",
    "- selecionamos a melhor combinação de hiperparametros do modelo com o grid search\n",
    "- aplicamos a seleção de atributos nesse modelo"
   ]
  },
  {
   "cell_type": "code",
   "execution_count": 10,
   "metadata": {},
   "outputs": [
    {
     "data": {
      "text/plain": [
       "MLPClassifier(activation='tanh', alpha=1, batch_size='auto', beta_1=0.9,\n",
       "       beta_2=0.999, early_stopping=False, epsilon=1e-08,\n",
       "       hidden_layer_sizes=(16,), learning_rate='constant',\n",
       "       learning_rate_init=0.001, max_iter=1000, momentum=0.9,\n",
       "       nesterovs_momentum=True, power_t=0.5, random_state=None,\n",
       "       shuffle=True, solver='lbfgs', tol=0.0001, validation_fraction=0.1,\n",
       "       verbose=False, warm_start=False)"
      ]
     },
     "execution_count": 10,
     "metadata": {},
     "output_type": "execute_result"
    }
   ],
   "source": [
    "clf.best_estimator_"
   ]
  },
  {
   "cell_type": "code",
   "execution_count": 11,
   "metadata": {},
   "outputs": [],
   "source": [
    "#seletor = RFECV(log, cv=10, scoring='accuracy')"
   ]
  },
  {
   "cell_type": "code",
   "execution_count": 12,
   "metadata": {},
   "outputs": [],
   "source": [
    "#seletor.fit(df.drop(columns=\"type\"),df[\"type\"])"
   ]
  },
  {
   "cell_type": "code",
   "execution_count": 13,
   "metadata": {},
   "outputs": [],
   "source": [
    "#Atributos selecionados\n",
    "#df.drop(columns=\"type\").columns[seletor.get_support()]"
   ]
  },
  {
   "cell_type": "code",
   "execution_count": 14,
   "metadata": {
    "scrolled": false
   },
   "outputs": [],
   "source": [
    "# plt.figure()\n",
    "# plt.xlabel(\"Number of features selected\")\n",
    "# plt.ylabel(\"Cross validation score (accuracy)\")\n",
    "# plt.plot(range(1, len(seletor.grid_scores_) + 1), seletor.grid_scores_)\n",
    "# plt.show()"
   ]
  },
  {
   "cell_type": "code",
   "execution_count": 15,
   "metadata": {},
   "outputs": [],
   "source": [
    "# Gerando vetor resposta pra enviar ao servidor"
   ]
  },
  {
   "cell_type": "code",
   "execution_count": 16,
   "metadata": {
    "scrolled": true
   },
   "outputs": [],
   "source": [
    "#mlp = MLPClassifier(activation='tanh', alpha=0.30000000000000004,hidden_layer_sizes=(16,), learning_rate='invscaling',learning_rate_init=0.1, max_iter=100, solver='lbfgs')"
   ]
  },
  {
   "cell_type": "code",
   "execution_count": 17,
   "metadata": {},
   "outputs": [],
   "source": [
    "#bla = cross_validate(mlp,df.drop(columns=\"type\"),df[\"type\"],scoring=\"accuracy\",cv=10, n_jobs=-1)"
   ]
  },
  {
   "cell_type": "code",
   "execution_count": 18,
   "metadata": {},
   "outputs": [],
   "source": [
    "# df = pd.read_csv(\"abalone_dataset.csv\")\n",
    "# df.head()\n",
    "\n",
    "# df.dtypes\n",
    "\n",
    "# df = df.drop(columns=\"sex\")\n",
    "# type = df[\"type\"]\n",
    "\n",
    "#scaler = MinMaxScaler(feature_range=(0.1,0.9))\n",
    "# dfscaled = scaler.fit_transform(df.drop(columns=\"type\"), df[\"type\"])\n",
    "# dfscaled = pd.DataFrame(dfscaled, columns=df.columns[:-1])\n",
    "\n",
    "# dfscaled = pd.merge(dfscaled,pd.DataFrame(type),right_index=True,left_index=True)"
   ]
  },
  {
   "cell_type": "code",
   "execution_count": 19,
   "metadata": {},
   "outputs": [],
   "source": [
    "#mlp.fit(dfscaled.drop(columns=\"type\"),dfscaled[\"type\"])\n",
    "teste = pd.read_csv(\"abalone_app.csv\")\n",
    "teste['sex'] = LabelEncoder().fit_transform(teste['sex'].tolist())\n",
    "teste['sex'] = teste['sex'].astype('category')\n",
    "# teste = teste.drop(columns=\"sex\")\n",
    "#testescaled = scaler.fit_transform(teste)\n",
    "# testescaled = pd.DataFrame(testescaled,columns=teste.columns)\n",
    "pd.Series(clf.predict(teste)).to_csv(\"respostas.csv\",index=False)\n",
    "bla = clf.predict(teste)"
   ]
  },
  {
   "cell_type": "code",
   "execution_count": 20,
   "metadata": {},
   "outputs": [],
   "source": [
    "y_pred = pd.read_csv(\"respostas.csv\").values"
   ]
  },
  {
   "cell_type": "code",
   "execution_count": 21,
   "metadata": {},
   "outputs": [
    {
     "name": "stdout",
     "output_type": "stream",
     "text": [
      "\n",
      " - Lendo o arquivo com o dataset sobre abalone\n",
      " - Resposta do servidor:\n",
      " {\"status\":\"success\",\"dev_key\":\"Ponte de Safena\",\"accuracy\":0.6641148325358852,\"old_accuracy\":0.60956937799043} \n",
      "\n"
     ]
    }
   ],
   "source": [
    "import requests\n",
    "\n",
    "print('\\n - Lendo o arquivo com o dataset sobre abalone')\n",
    "\n",
    "# Enviando previsões realizadas com o modelo para o servidor\n",
    "URL = \"https://aydanomachado.com/mlclass/03_Validation.php\"\n",
    "\n",
    "#TODO Substituir pela sua chave aqui\n",
    "DEV_KEY = 'Ponte de Safena'\n",
    "\n",
    "# json para ser enviado para o servidor\n",
    "y_pred1 = pd.Series(bla)\n",
    "data = {'dev_key':DEV_KEY,\n",
    "        'predictions':y_pred1.to_json(orient='values')}\n",
    "\n",
    "# Enviando requisição e salvando o objeto resposta\n",
    "r = requests.post(url = URL, data = data)\n",
    "\n",
    "# Extraindo e imprimindo o texto da resposta\n",
    "pastebin_url = r.text\n",
    "print(\" - Resposta do servidor:\\n\", r.text, \"\\n\")"
   ]
  }
 ],
 "metadata": {
  "kernelspec": {
   "display_name": "Python 3",
   "language": "python",
   "name": "python3"
  },
  "language_info": {
   "codemirror_mode": {
    "name": "ipython",
    "version": 3
   },
   "file_extension": ".py",
   "mimetype": "text/x-python",
   "name": "python",
   "nbconvert_exporter": "python",
   "pygments_lexer": "ipython3",
   "version": "3.7.0"
  }
 },
 "nbformat": 4,
 "nbformat_minor": 2
}
