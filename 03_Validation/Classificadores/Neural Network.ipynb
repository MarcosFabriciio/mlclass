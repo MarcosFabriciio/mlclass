{
 "cells": [
  {
   "cell_type": "code",
   "execution_count": 1,
   "metadata": {},
   "outputs": [],
   "source": [
    "import pandas as pd\n",
    "import numpy as np\n",
    "from os import listdir\n",
    "import matplotlib.pyplot as plt\n",
    "from sklearn.neural_network import MLPClassifier\n",
    "from sklearn.model_selection import train_test_split, cross_validate\n",
    "from sklearn.pipeline import Pipeline,make_pipeline"
   ]
  },
  {
   "cell_type": "code",
   "execution_count": 2,
   "metadata": {},
   "outputs": [],
   "source": [
    "files = [x for x in listdir() if x.endswith(\".csv\")]"
   ]
  },
  {
   "cell_type": "code",
   "execution_count": 3,
   "metadata": {},
   "outputs": [],
   "source": [
    "files.remove('abalone_app.csv')\n",
    "files.remove('respostas.csv')"
   ]
  },
  {
   "cell_type": "code",
   "execution_count": 4,
   "metadata": {},
   "outputs": [
    {
     "data": {
      "text/plain": [
       "['abalone_L2.csv',\n",
       " 'abalone_sex_bin.csv',\n",
       " 'abalone_dataset.csv',\n",
       " 'abalone_L1.csv',\n",
       " 'abalone_min_max.csv']"
      ]
     },
     "execution_count": 4,
     "metadata": {},
     "output_type": "execute_result"
    }
   ],
   "source": [
    "files"
   ]
  },
  {
   "cell_type": "code",
   "execution_count": 5,
   "metadata": {},
   "outputs": [],
   "source": [
    "abalones = []"
   ]
  },
  {
   "cell_type": "code",
   "execution_count": 6,
   "metadata": {},
   "outputs": [],
   "source": [
    "for file in files:\n",
    "    abalones.append(pd.read_csv(file))"
   ]
  },
  {
   "cell_type": "code",
   "execution_count": 7,
   "metadata": {},
   "outputs": [],
   "source": [
    "abalones[2] = abalones[2].drop(columns='sex')"
   ]
  },
  {
   "cell_type": "code",
   "execution_count": 15,
   "metadata": {},
   "outputs": [
    {
     "name": "stdout",
     "output_type": "stream",
     "text": [
      "Dataframe Utilizado: abalone_L2.csv\n",
      "\n",
      "0.6553860819828408\n",
      "Dataframe Utilizado: abalone_sex_bin.csv\n",
      "\n",
      "0.674928503336511\n",
      "Dataframe Utilizado: abalone_dataset.csv\n",
      "\n",
      "0.6663489037178265\n",
      "Dataframe Utilizado: abalone_L1.csv\n",
      "\n",
      "0.657769304099142\n",
      "Dataframe Utilizado: abalone_min_max.csv\n",
      "\n",
      "0.680648236415634\n"
     ]
    }
   ],
   "source": [
    "results = []\n",
    "for x in range(0,len(abalones)):\n",
    "    print(\"Dataframe Utilizado: {}\\n\".format(files[x]))\n",
    "    X,Y = abalones[x][abalones[x].columns[:-1]],abalones[x][abalones[x].columns[-1]]\n",
    "    Xtrain, Xtest, Ytrain, Ytest = train_test_split(X, Y, stratify = Y, random_state=66, test_size=0.33)\n",
    "    mlp = MLPClassifier(activation='tanh', alpha=0.30000000000000004,hidden_layer_sizes=(16,), learning_rate='invscaling',learning_rate_init=0.001, max_iter=100, solver='lbfgs')\n",
    "    #res = np.median(cross_validate(mlp,abalones[x][abalones[x].columns[:-1]],abalones[x][abalones[x].columns[-1]], scoring=\"accuracy\",cv=10)[\"test_score\"])\n",
    "    ha = mlp.fit(Xtrain,Ytrain)\n",
    "    print(ha.score(Xtrain,Ytrain))"
   ]
  }
 ],
 "metadata": {
  "kernelspec": {
   "display_name": "Python 3",
   "language": "python",
   "name": "python3"
  },
  "language_info": {
   "codemirror_mode": {
    "name": "ipython",
    "version": 3
   },
   "file_extension": ".py",
   "mimetype": "text/x-python",
   "name": "python",
   "nbconvert_exporter": "python",
   "pygments_lexer": "ipython3",
   "version": "3.7.0"
  }
 },
 "nbformat": 4,
 "nbformat_minor": 2
}
