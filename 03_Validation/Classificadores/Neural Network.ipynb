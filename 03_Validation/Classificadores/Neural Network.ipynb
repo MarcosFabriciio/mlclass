{
 "cells": [
  {
   "cell_type": "code",
   "execution_count": 16,
   "metadata": {},
   "outputs": [],
   "source": [
    "import pandas as pd\n",
    "import numpy as np\n",
    "from os import listdir\n",
    "import matplotlib.pyplot as plt\n",
    "from sklearn.neural_network import MLPClassifier\n",
    "from sklearn.model_selection import train_test_split, cross_validate\n",
    "from sklearn.pipeline import Pipeline,make_pipeline"
   ]
  },
  {
   "cell_type": "code",
   "execution_count": 17,
   "metadata": {},
   "outputs": [],
   "source": [
    "files = [x for x in listdir() if x.endswith(\".csv\")]"
   ]
  },
  {
   "cell_type": "code",
   "execution_count": 18,
   "metadata": {},
   "outputs": [],
   "source": [
    "files.remove('abalone_app.csv')\n",
    "files.remove('respostas.csv')"
   ]
  },
  {
   "cell_type": "code",
   "execution_count": 19,
   "metadata": {},
   "outputs": [
    {
     "data": {
      "text/plain": [
       "['abalone_L2.csv',\n",
       " 'abalone_sex_bin.csv',\n",
       " 'abalone_dataset.csv',\n",
       " 'abalone_L1.csv',\n",
       " 'abalone_min_max.csv']"
      ]
     },
     "execution_count": 19,
     "metadata": {},
     "output_type": "execute_result"
    }
   ],
   "source": [
    "files"
   ]
  },
  {
   "cell_type": "code",
   "execution_count": 20,
   "metadata": {},
   "outputs": [],
   "source": [
    "abalones = []"
   ]
  },
  {
   "cell_type": "code",
   "execution_count": 21,
   "metadata": {},
   "outputs": [],
   "source": [
    "for file in files:\n",
    "    abalones.append(pd.read_csv(file))"
   ]
  },
  {
   "cell_type": "code",
   "execution_count": 31,
   "metadata": {},
   "outputs": [],
   "source": [
    "abalones[2] = abalones[2].drop(columns='sex')"
   ]
  },
  {
   "cell_type": "code",
   "execution_count": 45,
   "metadata": {},
   "outputs": [
    {
     "name": "stdout",
     "output_type": "stream",
     "text": [
      "Dataframe Utilizado: abalone_L2.csv\n",
      "\n",
      "0.6560067993774064\n",
      "Dataframe Utilizado: abalone_sex_bin.csv\n",
      "\n",
      "0.667199148029819\n",
      "Dataframe Utilizado: abalone_dataset.csv\n",
      "\n",
      "0.66348364909139\n",
      "Dataframe Utilizado: abalone_L1.csv\n",
      "\n",
      "0.6480042188908004\n",
      "Dataframe Utilizado: abalone_min_max.csv\n",
      "\n",
      "0.6528627212333282\n"
     ]
    }
   ],
   "source": [
    "results = []\n",
    "for x in range(0,len(abalones)):\n",
    "    print(\"Dataframe Utilizado: {}\\n\".format(files[x]))\n",
    "    #X,Y = abalones[x][abalones[x].columns[:-1]],abalones[x][abalones[x].columns[-1]]\n",
    "    #Xtrain, Xtest, Ytrain, Ytest = train_test_split(X, Y, stratify = Y, random_state=66, test_size=0.10)\n",
    "    mlp = MLPClassifier(activation='tanh', alpha=0.30000000000000004,hidden_layer_sizes=(16,), learning_rate='invscaling',learning_rate_init=0.001, max_iter=100, solver='lbfgs')\n",
    "    res = np.median(cross_validate(mlp,abalones[x][abalones[x].columns[:-1]],abalones[x][abalones[x].columns[-1]], scoring=\"accuracy\",cv=10)[\"test_score\"])\n",
    "    #mlp.fit(Xtrain,Ytrain)\n",
    "    print(res)"
   ]
  }
 ],
 "metadata": {
  "kernelspec": {
   "display_name": "Python 3",
   "language": "python",
   "name": "python3"
  },
  "language_info": {
   "codemirror_mode": {
    "name": "ipython",
    "version": 3
   },
   "file_extension": ".py",
   "mimetype": "text/x-python",
   "name": "python",
   "nbconvert_exporter": "python",
   "pygments_lexer": "ipython3",
   "version": "3.7.0"
  }
 },
 "nbformat": 4,
 "nbformat_minor": 2
}
