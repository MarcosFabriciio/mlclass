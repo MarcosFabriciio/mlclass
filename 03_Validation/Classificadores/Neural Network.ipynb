{
 "cells": [
  {
   "cell_type": "code",
   "execution_count": 1,
   "metadata": {},
   "outputs": [],
   "source": [
    "import pandas as pd\n",
    "import numpy as np\n",
    "from os import listdir\n",
    "import matplotlib.pyplot as plt\n",
    "from sklearn.neural_network import MLPClassifier\n",
    "from sklearn.model_selection import train_test_split, cross_validate\n",
    "from sklearn.pipeline import Pipeline,make_pipeline\n",
    "from sklearn.preprocessing import LabelEncoder"
   ]
  },
  {
   "cell_type": "code",
   "execution_count": 2,
   "metadata": {},
   "outputs": [],
   "source": [
    "files = [x for x in listdir() if x.endswith(\".csv\")]"
   ]
  },
  {
   "cell_type": "code",
   "execution_count": 3,
   "metadata": {},
   "outputs": [],
   "source": [
    "files.remove('abalone_app.csv')\n",
    "files.remove('respostas.csv')"
   ]
  },
  {
   "cell_type": "code",
   "execution_count": 4,
   "metadata": {},
   "outputs": [
    {
     "data": {
      "text/plain": [
       "['abalone_app_min_max.csv',\n",
       " 'abalone_sex_bin.csv',\n",
       " 'abalone_dataset.csv',\n",
       " 'abalone_min_max.csv']"
      ]
     },
     "execution_count": 4,
     "metadata": {},
     "output_type": "execute_result"
    }
   ],
   "source": [
    "files"
   ]
  },
  {
   "cell_type": "code",
   "execution_count": 5,
   "metadata": {},
   "outputs": [],
   "source": [
    "abalones = []"
   ]
  },
  {
   "cell_type": "code",
   "execution_count": 6,
   "metadata": {},
   "outputs": [],
   "source": [
    "for file in files:\n",
    "    abalones.append(pd.read_csv(file))"
   ]
  },
  {
   "cell_type": "code",
   "execution_count": 7,
   "metadata": {},
   "outputs": [],
   "source": [
    "abalones[2] = abalones[2].drop(columns='sex')"
   ]
  },
  {
   "cell_type": "code",
   "execution_count": 8,
   "metadata": {},
   "outputs": [],
   "source": [
    "df = pd.read_csv(\"abalone_sex_bin.csv\")\n",
    "df['sex'] = df['sex'].astype('category')"
   ]
  },
  {
   "cell_type": "code",
   "execution_count": 9,
   "metadata": {},
   "outputs": [
    {
     "name": "stdout",
     "output_type": "stream",
     "text": [
      "0.6711366538952745\n"
     ]
    }
   ],
   "source": [
    "results = []\n",
    "# print(\"Dataframe Utilizado: {}\\n\".format(files[x]))\n",
    "X,Y = df[df.columns[:-1]],df[df.columns[-1]]\n",
    "Xtrain, Xtest, Ytrain, Ytest = train_test_split(X, Y, stratify = Y, random_state=66, test_size=0.25)\n",
    "mlp = MLPClassifier(activation='tanh', alpha=0.30000000000000004,hidden_layer_sizes=(16,), learning_rate='invscaling',learning_rate_init=0.1, max_iter=100, solver='lbfgs')\n",
    "#res = np.median(cross_validate(mlp,abalones[x][abalones[x].columns[:-1]],abalones[x][abalones[x].columns[-1]], scoring=\"accuracy\",cv=10)[\"test_score\"])\n",
    "ha = mlp.fit(X,Y)\n",
    "print(ha.score(X,Y))"
   ]
  },
  {
   "cell_type": "code",
   "execution_count": 10,
   "metadata": {},
   "outputs": [],
   "source": [
    "teste = pd.read_csv(\"abalone_app.csv\")"
   ]
  },
  {
   "cell_type": "code",
   "execution_count": 11,
   "metadata": {},
   "outputs": [],
   "source": [
    "teste['sex'] = teste['sex'].astype('category')\n",
    "teste['sex'] = LabelEncoder().fit_transform(teste['sex'].tolist())\n",
    "# testescaled = scaler.fit_transform(teste)\n",
    "# testescaled = pd.DataFrame(testescaled,columns=teste.columns)\n",
    "pd.Series(mlp.predict(teste)).to_csv(\"respostas.csv\",index=False)\n",
    "bla = mlp.predict(teste)"
   ]
  },
  {
   "cell_type": "code",
   "execution_count": 12,
   "metadata": {},
   "outputs": [
    {
     "data": {
      "text/plain": [
       "array([3, 2, 2, ..., 2, 1, 2])"
      ]
     },
     "execution_count": 12,
     "metadata": {},
     "output_type": "execute_result"
    }
   ],
   "source": [
    "bla"
   ]
  },
  {
   "cell_type": "code",
   "execution_count": 13,
   "metadata": {},
   "outputs": [
    {
     "name": "stdout",
     "output_type": "stream",
     "text": [
      "\n",
      " - Lendo o arquivo com o dataset sobre abalone\n",
      " - Resposta do servidor:\n",
      " {\"status\":\"success\",\"dev_key\":\"Ponte de Safena\",\"accuracy\":0.6602870813397129,\"old_accuracy\":0.60956937799043} \n",
      "\n"
     ]
    }
   ],
   "source": [
    "import requests\n",
    "\n",
    "print('\\n - Lendo o arquivo com o dataset sobre abalone')\n",
    "\n",
    "# Enviando previsões realizadas com o modelo para o servidor\n",
    "URL = \"https://aydanomachado.com/mlclass/03_Validation.php\"\n",
    "\n",
    "#TODO Substituir pela sua chave aqui\n",
    "DEV_KEY = 'Ponte de Safena'\n",
    "\n",
    "# json para ser enviado para o servidor\n",
    "y_pred1 = pd.Series(bla)\n",
    "data = {'dev_key':DEV_KEY,\n",
    "        'predictions':y_pred1.to_json(orient='values')}\n",
    "\n",
    "# Enviando requisição e salvando o objeto resposta\n",
    "r = requests.post(url = URL, data = data)\n",
    "\n",
    "# Extraindo e imprimindo o texto da resposta\n",
    "pastebin_url = r.text\n",
    "print(\" - Resposta do servidor:\\n\", r.text, \"\\n\")"
   ]
  }
 ],
 "metadata": {
  "kernelspec": {
   "display_name": "Python 3",
   "language": "python",
   "name": "python3"
  },
  "language_info": {
   "codemirror_mode": {
    "name": "ipython",
    "version": 3
   },
   "file_extension": ".py",
   "mimetype": "text/x-python",
   "name": "python",
   "nbconvert_exporter": "python",
   "pygments_lexer": "ipython3",
   "version": "3.7.0"
  }
 },
 "nbformat": 4,
 "nbformat_minor": 2
}
